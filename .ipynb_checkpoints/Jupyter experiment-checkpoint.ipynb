{
 "cells": [
  {
   "cell_type": "markdown",
   "id": "68079852-d08b-4e75-942a-979d8693aee0",
   "metadata": {},
   "source": [
    "Setting up API Key as Environment Vairables"
   ]
  },
  {
   "cell_type": "code",
   "execution_count": 1,
   "id": "0ec8a425",
   "metadata": {},
   "outputs": [],
   "source": [
    "import os"
   ]
  },
  {
   "cell_type": "code",
   "execution_count": 4,
   "id": "13c6da76-ce13-460a-95d0-970cf6acdc9e",
   "metadata": {},
   "outputs": [],
   "source": [
    "#os.environ[\"OPENAI_API_KEY\"] "
   ]
  },
  {
   "cell_type": "code",
   "execution_count": 4,
   "id": "1c97badf-50a4-4e61-8d66-fa965c6fbfd3",
   "metadata": {},
   "outputs": [
    {
     "name": "stdout",
     "output_type": "stream",
     "text": [
      "OPENAI_API_KEY:value\n"
     ]
    }
   ],
   "source": [
    "for key, value in os.environ.items():\n",
    "    if key == \"OPENAI_API_KEY\":\n",
    "        print(f\"{key}:value\")"
   ]
  },
  {
   "cell_type": "code",
   "execution_count": 1,
   "id": "37d69255-ff4f-43e2-a6ee-f88e3fb1eee2",
   "metadata": {},
   "outputs": [],
   "source": [
    "%load_ext dotenv\n",
    "%dotenv"
   ]
  },
  {
   "cell_type": "code",
   "execution_count": 2,
   "id": "fb82a87a-de93-428b-80c0-3cc7b6756a98",
   "metadata": {},
   "outputs": [],
   "source": [
    "import os"
   ]
  },
  {
   "cell_type": "code",
   "execution_count": 3,
   "id": "a7069364-64eb-4992-8a31-20e83462a354",
   "metadata": {},
   "outputs": [
    {
     "name": "stdout",
     "output_type": "stream",
     "text": [
      "OPENAI_API_KEY:value\n"
     ]
    }
   ],
   "source": [
    "for key, value in os.environ.items():\n",
    "    if key == \"OPENAI_API_KEY\":\n",
    "        print(f\"{key}:value\")"
   ]
  },
  {
   "cell_type": "code",
   "execution_count": null,
   "id": "14ade355-73e9-4b88-8c9b-ef69ca4ff0f3",
   "metadata": {},
   "outputs": [],
   "source": []
  }
 ],
 "metadata": {
  "kernelspec": {
   "display_name": "langchain_env",
   "language": "python",
   "name": "langchain_env"
  },
  "language_info": {
   "codemirror_mode": {
    "name": "ipython",
    "version": 3
   },
   "file_extension": ".py",
   "mimetype": "text/x-python",
   "name": "python",
   "nbconvert_exporter": "python",
   "pygments_lexer": "ipython3",
   "version": "3.10.10"
  }
 },
 "nbformat": 4,
 "nbformat_minor": 5
}
