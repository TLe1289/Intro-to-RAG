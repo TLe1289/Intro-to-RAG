{
 "cells": [
  {
   "cell_type": "code",
   "execution_count": 1,
   "id": "2ad590ae-23ba-459e-9d05-49befffc0637",
   "metadata": {},
   "outputs": [],
   "source": [
    "%load_ext dotenv\n",
    "%dotenv"
   ]
  },
  {
   "cell_type": "code",
   "execution_count": 2,
   "id": "9c27e2d3-c8a9-4804-a9e9-10eb15bcafdc",
   "metadata": {},
   "outputs": [],
   "source": [
    "from langchain_chroma import Chroma\n",
    "from langchain_openai import OpenAIEmbeddings"
   ]
  },
  {
   "cell_type": "code",
   "execution_count": 3,
   "id": "3c0fb01a-d05e-4657-aae7-9466d7e3db18",
   "metadata": {},
   "outputs": [],
   "source": [
    "embedding = OpenAIEmbeddings(model = \"text-embedding-ada-002\")"
   ]
  },
  {
   "cell_type": "code",
   "execution_count": 4,
   "id": "89769727-0f29-488b-9756-a015c1e62fef",
   "metadata": {},
   "outputs": [],
   "source": [
    "vectorstore_from_directory = Chroma(persist_directory = \"./vector-store\",\n",
    "                                   embedding_function = embedding)"
   ]
  },
  {
   "cell_type": "markdown",
   "id": "c198e507-1f0c-4503-96fc-82c3d76e86fc",
   "metadata": {},
   "source": [
    "## Similarity Search"
   ]
  },
  {
   "cell_type": "code",
   "execution_count": 5,
   "id": "6f31daa7-d69c-4410-91c1-eb99a6becb09",
   "metadata": {},
   "outputs": [],
   "source": [
    "question = \"What programming languages do data scientists use?\""
   ]
  },
  {
   "cell_type": "code",
   "execution_count": 6,
   "id": "88f7944e-bdab-417e-8d1c-a2f02cc80abc",
   "metadata": {},
   "outputs": [
    {
     "name": "stdout",
     "output_type": "stream",
     "text": [
      "Page Content: What about big data? Apart from R and Python, people working in this area are often proficient in other languages like Java or Scala. These two have not been developed specifically for doing statistical analyses, however they turn out to be very useful when combining data from multiple sources. All right! Let’s finish off with machine learning. When it comes to machine learning, we often deal with big data\n",
      "------------\n",
      "Lecture Title: Programming Languages & Software Employed in Data Science - All the Tools You Need\n",
      "\n",
      "Page Content: What about big data? Apart from R and Python, people working in this area are often proficient in other languages like Java or Scala. These two have not been developed specifically for doing statistical analyses, however they turn out to be very useful when combining data from multiple sources. All right! Let’s finish off with machine learning. When it comes to machine learning, we often deal with big data\n",
      "------------\n",
      "Lecture Title: Programming Languages & Software Employed in Data Science - All the Tools You Need\n",
      "\n",
      "Page Content: What about big data? Apart from R and Python, people working in this area are often proficient in other languages like Java or Scala. These two have not been developed specifically for doing statistical analyses, however they turn out to be very useful when combining data from multiple sources. All right! Let’s finish off with machine learning. When it comes to machine learning, we often deal with big data\n",
      "------------\n",
      "Lecture Title: Programming Languages & Software Employed in Data Science - All the Tools You Need\n",
      "\n"
     ]
    }
   ],
   "source": [
    "retrieved_docs=vectorstore_from_directory.similarity_search(query = question,\n",
    "                                            k = 3)\n",
    "for i in retrieved_docs:\n",
    "    print(f\"Page Content: {i.page_content}\\n------------\\nLecture Title: {i.metadata['Lecture Title']}\\n\")"
   ]
  },
  {
   "cell_type": "markdown",
   "id": "a8c335c7-144b-4a25-a7af-3043cc6e0aa5",
   "metadata": {},
   "source": [
    "The limitation to similarity search, is that it only retrieves documents with high similarity scores, so there is a chance it retrieves the same document multiple times. "
   ]
  },
  {
   "cell_type": "markdown",
   "id": "d6865a72-d015-49dd-9f40-3b1deb5097ca",
   "metadata": {},
   "source": [
    "## Maximal Marginal Relevance Search"
   ]
  },
  {
   "cell_type": "code",
   "execution_count": 7,
   "id": "ff36d703-340e-45f1-a89e-bbf3e0b94406",
   "metadata": {},
   "outputs": [],
   "source": [
    "question = \"What software do data scientist use?\""
   ]
  },
  {
   "cell_type": "code",
   "execution_count": 16,
   "id": "37ee508d-fdb5-44b7-b682-9a7db8ea9784",
   "metadata": {},
   "outputs": [],
   "source": [
    "retrieved_docs=vectorstore_from_directory.max_marginal_relevance_search(\n",
    "    query = question,\n",
    "    k = 3,\n",
    "    lambda_mult = .3\n",
    ")"
   ]
  },
  {
   "cell_type": "code",
   "execution_count": 17,
   "id": "ad84b6f8-fc54-4885-bb7c-80a8c3d0235b",
   "metadata": {},
   "outputs": [
    {
     "name": "stdout",
     "output_type": "stream",
     "text": [
      "Page Content: As you can see from the infographic, R, and Python are the two most popular tools across all columns. Their biggest advantage is that they can manipulate data and are integrated within multiple data and data science software platforms. They are not just suitable for mathematical and statistical computations. In other words, R, and Python are adaptable. They can solve a wide variety of business and data-related problems from beginning to the end\n",
      "------------\n",
      "Lecture Title: Programming Languages & Software Employed in Data Science - All the Tools You Need\n",
      "\n",
      "Page Content: Alright! So… How are the techniques used in data, business intelligence, or predictive analytics applied in real life? Certainly, with the help of computers. You can basically split the relevant tools into two categories—programming languages and software. Knowing a programming language enables you to devise programs that can execute specific operations. Moreover, you can reuse these programs whenever you need to execute the same action\n",
      "------------\n",
      "Lecture Title: Programming Languages & Software Employed in Data Science - All the Tools You Need\n",
      "\n",
      "Page Content: What about big data? Apart from R and Python, people working in this area are often proficient in other languages like Java or Scala. These two have not been developed specifically for doing statistical analyses, however they turn out to be very useful when combining data from multiple sources. All right! Let’s finish off with machine learning. When it comes to machine learning, we often deal with big data\n",
      "------------\n",
      "Lecture Title: Programming Languages & Software Employed in Data Science - All the Tools You Need\n",
      "\n"
     ]
    }
   ],
   "source": [
    "for i in retrieved_docs:\n",
    "    print(f\"Page Content: {i.page_content}\\n------------\\nLecture Title: {i.metadata['Lecture Title']}\\n\")"
   ]
  },
  {
   "cell_type": "markdown",
   "id": "0eb93dc1-1330-45ea-a6f5-2475dddd29d9",
   "metadata": {},
   "source": [
    "## Vectorstore-Backed Retriever"
   ]
  },
  {
   "cell_type": "code",
   "execution_count": 19,
   "id": "f9581182-2295-4d0f-97b6-66a028f3cc67",
   "metadata": {},
   "outputs": [],
   "source": [
    "from langchain_openai.embeddings import OpenAIEmbeddings\n",
    "from langchain_community.vectorstores import Chroma\n",
    "from langchain_core.documents import Document"
   ]
  },
  {
   "cell_type": "code",
   "execution_count": 20,
   "id": "5994b542-3506-4a14-ba6b-78083d7410da",
   "metadata": {},
   "outputs": [
    {
     "name": "stderr",
     "output_type": "stream",
     "text": [
      "C:\\Users\\tle72\\AppData\\Local\\Temp\\ipykernel_22520\\1258411149.py:2: LangChainDeprecationWarning: The class `Chroma` was deprecated in LangChain 0.2.9 and will be removed in 1.0. An updated version of the class exists in the `langchain-chroma package and should be used instead. To use it run `pip install -U `langchain-chroma` and import as `from `langchain_chroma import Chroma``.\n",
      "  vectorstore = Chroma(persist_directory = \"./vector-store\",\n"
     ]
    }
   ],
   "source": [
    "embedding = OpenAIEmbeddings()\n",
    "vectorstore = Chroma(persist_directory = \"./vector-store\",\n",
    "                    embedding_function = embedding)"
   ]
  },
  {
   "cell_type": "code",
   "execution_count": 22,
   "id": "f555566c-a07f-44f1-9bf4-a76d8b6b784a",
   "metadata": {},
   "outputs": [
    {
     "data": {
      "text/plain": [
       "140"
      ]
     },
     "execution_count": 22,
     "metadata": {},
     "output_type": "execute_result"
    }
   ],
   "source": [
    "len(vectorstore.get()[\"documents\"])"
   ]
  },
  {
   "cell_type": "code",
   "execution_count": 25,
   "id": "e8b7607d-72de-4b92-bbea-ae28376a93e6",
   "metadata": {},
   "outputs": [],
   "source": [
    "retriever = vectorstore.as_retriever(search_type = \"mmr\",\n",
    "                                     search_kwargs = {\"k\":3, \n",
    "                                                     \"lambda_mult\" : .7}\n",
    "                                     )"
   ]
  },
  {
   "cell_type": "code",
   "execution_count": 26,
   "id": "6bf08883-4920-450f-b49c-a730bc3f3d40",
   "metadata": {},
   "outputs": [],
   "source": [
    "question = \"What software do data scientist use?\""
   ]
  },
  {
   "cell_type": "code",
   "execution_count": 28,
   "id": "39c16abd-bda7-41ea-aa40-3609bc5d1e8a",
   "metadata": {},
   "outputs": [],
   "source": [
    "retrieved_docs = retriever.invoke(question)   \n",
    "# this is a runnable class so we can start using invoke()"
   ]
  },
  {
   "cell_type": "code",
   "execution_count": 29,
   "id": "db76ecb2-fd6e-4d0b-93a4-e83a055d153f",
   "metadata": {},
   "outputs": [
    {
     "name": "stdout",
     "output_type": "stream",
     "text": [
      "Page Content: As you can see from the infographic, R, and Python are the two most popular tools across all columns. Their biggest advantage is that they can manipulate data and are integrated within multiple data and data science software platforms. They are not just suitable for mathematical and statistical computations. In other words, R, and Python are adaptable. They can solve a wide variety of business and data-related problems from beginning to the end\n",
      "------------\n",
      "Lecture Title: Programming Languages & Software Employed in Data Science - All the Tools You Need\n",
      "\n",
      "Page Content: Alright! So… How are the techniques used in data, business intelligence, or predictive analytics applied in real life? Certainly, with the help of computers. You can basically split the relevant tools into two categories—programming languages and software. Knowing a programming language enables you to devise programs that can execute specific operations. Moreover, you can reuse these programs whenever you need to execute the same action\n",
      "------------\n",
      "Lecture Title: Programming Languages & Software Employed in Data Science - All the Tools You Need\n",
      "\n",
      "Page Content: What about big data? Apart from R and Python, people working in this area are often proficient in other languages like Java or Scala. These two have not been developed specifically for doing statistical analyses, however they turn out to be very useful when combining data from multiple sources. All right! Let’s finish off with machine learning. When it comes to machine learning, we often deal with big data\n",
      "------------\n",
      "Lecture Title: Programming Languages & Software Employed in Data Science - All the Tools You Need\n",
      "\n"
     ]
    }
   ],
   "source": [
    "for i in retrieved_docs:\n",
    "    print(f\"Page Content: {i.page_content}\\n------------\\nLecture Title: {i.metadata['Lecture Title']}\\n\")"
   ]
  },
  {
   "cell_type": "code",
   "execution_count": null,
   "id": "1641f40e-c97f-419b-af21-0226c9661539",
   "metadata": {},
   "outputs": [],
   "source": []
  }
 ],
 "metadata": {
  "kernelspec": {
   "display_name": "langchain_env",
   "language": "python",
   "name": "langchain_env"
  },
  "language_info": {
   "codemirror_mode": {
    "name": "ipython",
    "version": 3
   },
   "file_extension": ".py",
   "mimetype": "text/x-python",
   "name": "python",
   "nbconvert_exporter": "python",
   "pygments_lexer": "ipython3",
   "version": "3.10.10"
  }
 },
 "nbformat": 4,
 "nbformat_minor": 5
}
