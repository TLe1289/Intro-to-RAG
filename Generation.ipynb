{
 "cells": [
  {
   "cell_type": "code",
   "execution_count": 1,
   "id": "7755629b-6d41-4e1f-a9a5-b029ae55a42b",
   "metadata": {},
   "outputs": [],
   "source": [
    "%load_ext dotenv\n",
    "%dotenv"
   ]
  },
  {
   "cell_type": "code",
   "execution_count": 3,
   "id": "a9923959-0fe5-4fda-a2c1-62ac52c3c4d4",
   "metadata": {},
   "outputs": [],
   "source": [
    "from langchain_openai.embeddings import OpenAIEmbeddings\n",
    "from langchain_chroma import Chroma\n",
    "from langchain_core.prompts import PromptTemplate\n",
    "from langchain_openai import ChatOpenAI\n",
    "from langchain_core.runnables import RunnablePassthrough\n",
    "from langchain_core.runnables import RunnableParallel\n",
    "from langchain_core.output_parsers import StrOutputParser"
   ]
  },
  {
   "cell_type": "code",
   "execution_count": 5,
   "id": "1f8c8340-fb06-4d51-a009-15e7c5eb026b",
   "metadata": {},
   "outputs": [],
   "source": [
    "vectorstore = Chroma(persist_directory = \"./vector-store\",\n",
    "                    embedding_function = OpenAIEmbeddings(model = \"text-embedding-ada-002\"))"
   ]
  },
  {
   "cell_type": "code",
   "execution_count": 6,
   "id": "9171cd07-7ed8-45d5-b2ba-6db998438e67",
   "metadata": {},
   "outputs": [
    {
     "data": {
      "text/plain": [
       "140"
      ]
     },
     "execution_count": 6,
     "metadata": {},
     "output_type": "execute_result"
    }
   ],
   "source": [
    "len(vectorstore.get()[\"documents\"])"
   ]
  },
  {
   "cell_type": "code",
   "execution_count": 7,
   "id": "a9fadd86-ff9b-408b-a252-4f4a86f209d4",
   "metadata": {},
   "outputs": [],
   "source": [
    "retriever = vectorstore.as_retriever(search_type = \"mmr\",\n",
    "                                    search_kwargs = {\"k\":3, \"lambda_mult\":0.7})"
   ]
  },
  {
   "cell_type": "code",
   "execution_count": 8,
   "id": "367ddf8c-c3a0-43a6-a272-3667848e2820",
   "metadata": {},
   "outputs": [],
   "source": [
    "TEMPLATE = '''\n",
    "Answer the following question:\n",
    "{question}\n",
    "\n",
    "To anwer the question, use only the following context:\n",
    "{context}\n",
    "\n",
    "At the end of the response, specify the name of the lecture this context is taken from in the forma:\n",
    "Resources:\"Lecture Title\"\n",
    "where \"Lecture Title\" should be substitued with the title of all resource lectures.\n",
    "'''\n",
    "\n",
    "prompt_template = PromptTemplate.from_template(TEMPLATE)"
   ]
  },
  {
   "cell_type": "code",
   "execution_count": 9,
   "id": "7bae713b-df72-42db-9a4e-60a51e15cb6a",
   "metadata": {},
   "outputs": [
    {
     "name": "stderr",
     "output_type": "stream",
     "text": [
      "C:\\Users\\tle72\\anaconda3\\envs\\langchain_env\\lib\\site-packages\\IPython\\core\\interactiveshell.py:3519: UserWarning: Parameters {'seed'} should be specified explicitly. Instead they were passed in as part of `model_kwargs` parameter.\n",
      "  if await self.run_code(code, result, async_=asy):\n"
     ]
    }
   ],
   "source": [
    "chat = ChatOpenAI(model_name = \"gpt-4\",\n",
    "                 model_kwargs = {'seed':365},\n",
    "                 max_tokens = 250)"
   ]
  },
  {
   "cell_type": "code",
   "execution_count": 10,
   "id": "f3aa8aed-ff50-404c-8e31-7ee65e03a0f4",
   "metadata": {},
   "outputs": [],
   "source": [
    "question = \"What software do data scientist use?\""
   ]
  },
  {
   "cell_type": "code",
   "execution_count": 26,
   "id": "8d0ae9a6-8907-4605-a175-4e56fbb9fd97",
   "metadata": {},
   "outputs": [],
   "source": [
    "chain = ({\"context\": retriever, \n",
    "         \"question\": RunnablePassthrough()} \n",
    "         | prompt_template \n",
    "         | chat \n",
    "         | StrOutputParser())"
   ]
  },
  {
   "cell_type": "code",
   "execution_count": 27,
   "id": "6e0d7242-38d6-4006-96a6-309af1548cab",
   "metadata": {},
   "outputs": [
    {
     "data": {
      "text/plain": [
       "'Data scientists commonly use programming languages and software such as R and Python. These tools are particularly useful as they can manipulate data and are integrated within various data and data science software platforms. They are also highly adaptable and capable of solving a range of business and data-related problems. In the area of big data, data scientists often use other languages like Java or Scala, even though they weren\\'t specifically developed for statistical analyses- they are nevertheless useful when merging data from multiple sources.\\n\\nResources: \"Programming Languages & Software Employed in Data Science - All the Tools You Need\"'"
      ]
     },
     "execution_count": 27,
     "metadata": {},
     "output_type": "execute_result"
    }
   ],
   "source": [
    "chain.invoke(question)"
   ]
  },
  {
   "cell_type": "code",
   "execution_count": null,
   "id": "c8a26129-06de-4e6e-a740-18664e5b3fc6",
   "metadata": {},
   "outputs": [],
   "source": []
  }
 ],
 "metadata": {
  "kernelspec": {
   "display_name": "langchain_env",
   "language": "python",
   "name": "langchain_env"
  },
  "language_info": {
   "codemirror_mode": {
    "name": "ipython",
    "version": 3
   },
   "file_extension": ".py",
   "mimetype": "text/x-python",
   "name": "python",
   "nbconvert_exporter": "python",
   "pygments_lexer": "ipython3",
   "version": "3.10.10"
  }
 },
 "nbformat": 4,
 "nbformat_minor": 5
}
